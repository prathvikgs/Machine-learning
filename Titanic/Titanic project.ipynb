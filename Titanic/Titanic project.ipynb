{
 "cells": [
  {
   "cell_type": "code",
   "execution_count": 1,
   "id": "ba410542",
   "metadata": {
    "_cell_guid": "b1076dfc-b9ad-4769-8c92-a6c4dae69d19",
    "_uuid": "8f2839f25d086af736a60e9eeb907d3b93b6e0e5",
    "execution": {
     "iopub.execute_input": "2022-08-06T09:22:23.683841Z",
     "iopub.status.busy": "2022-08-06T09:22:23.683122Z",
     "iopub.status.idle": "2022-08-06T09:22:24.836051Z",
     "shell.execute_reply": "2022-08-06T09:22:24.833185Z"
    },
    "papermill": {
     "duration": 1.16286,
     "end_time": "2022-08-06T09:22:24.839337",
     "exception": false,
     "start_time": "2022-08-06T09:22:23.676477",
     "status": "completed"
    },
    "tags": []
   },
   "outputs": [
    {
     "name": "stdout",
     "output_type": "stream",
     "text": [
      "/kaggle/input/titanic/train.csv\n",
      "/kaggle/input/titanic/test.csv\n",
      "/kaggle/input/titanic/gender_submission.csv\n"
     ]
    }
   ],
   "source": [
    "# This Python 3 environment comes with many helpful analytics libraries installed\n",
    "# It is defined by the kaggle/python Docker image: https://github.com/kaggle/docker-python\n",
    "# For example, here's several helpful packages to load\n",
    "\n",
    "import numpy as np # linear algebra\n",
    "import pandas as pd # data processing, CSV file I/O (e.g. pd.read_csv)\n",
    "import seaborn as sns\n",
    "\n",
    "# Input data files are available in the read-only \"../input/\" directory\n",
    "# For example, running this (by clicking run or pressing Shift+Enter) will list all files under the input directory\n",
    "\n",
    "import os\n",
    "for dirname, _, filenames in os.walk('/kaggle/input'):\n",
    "    for filename in filenames:\n",
    "        print(os.path.join(dirname, filename))\n",
    "\n",
    "# You can write up to 20GB to the current directory (/kaggle/working/) that gets preserved as output when you create a version using \"Save & Run All\" \n",
    "# You can also write temporary files to /kaggle/temp/, but they won't be saved outside of the current session"
   ]
  },
  {
   "cell_type": "code",
   "execution_count": 2,
   "id": "feab6495",
   "metadata": {
    "execution": {
     "iopub.execute_input": "2022-08-06T09:22:24.849263Z",
     "iopub.status.busy": "2022-08-06T09:22:24.848896Z",
     "iopub.status.idle": "2022-08-06T09:22:24.877629Z",
     "shell.execute_reply": "2022-08-06T09:22:24.876405Z"
    },
    "papermill": {
     "duration": 0.037189,
     "end_time": "2022-08-06T09:22:24.880585",
     "exception": false,
     "start_time": "2022-08-06T09:22:24.843396",
     "status": "completed"
    },
    "tags": []
   },
   "outputs": [],
   "source": [
    "dataset=pd.read_csv(\"/kaggle/input/titanic/train.csv\")\n",
    "dataset.head()\n",
    "dataset2=pd.read_csv(\"/kaggle/input/titanic/test.csv\")"
   ]
  },
  {
   "cell_type": "code",
   "execution_count": 3,
   "id": "6fb1db51",
   "metadata": {
    "execution": {
     "iopub.execute_input": "2022-08-06T09:22:24.890676Z",
     "iopub.status.busy": "2022-08-06T09:22:24.890262Z",
     "iopub.status.idle": "2022-08-06T09:22:24.907226Z",
     "shell.execute_reply": "2022-08-06T09:22:24.906164Z"
    },
    "papermill": {
     "duration": 0.024926,
     "end_time": "2022-08-06T09:22:24.909856",
     "exception": false,
     "start_time": "2022-08-06T09:22:24.884930",
     "status": "completed"
    },
    "tags": []
   },
   "outputs": [
    {
     "name": "stdout",
     "output_type": "stream",
     "text": [
      "[[3 'male' 22.0 1 0 'A/5 21171' 7.25 nan 'S']\n",
      " [1 'female' 38.0 1 0 'PC 17599' 71.2833 'C85' 'C']\n",
      " [3 'female' 26.0 0 0 'STON/O2. 3101282' 7.925 nan 'S']]\n",
      " \n",
      "[[3 'male' 22.0 1 0 7.25 'S']\n",
      " [1 'female' 38.0 1 0 71.2833 'C']\n",
      " [3 'female' 26.0 0 0 7.925 'S']\n",
      " [1 'female' 35.0 1 0 53.1 'S']\n",
      " [3 'male' 35.0 0 0 8.05 'S']]\n",
      " \n",
      "[[3 'male' 22.0 1 7.25 'S']\n",
      " [1 'female' 38.0 1 71.2833 'C']\n",
      " [3 'female' 26.0 0 7.925 'S']\n",
      " [1 'female' 35.0 1 53.1 'S']\n",
      " [3 'male' 35.0 0 8.05 'S']]\n"
     ]
    }
   ],
   "source": [
    "x=dataset.iloc[:,2:].values\n",
    "ID=dataset2.iloc[:,0].values\n",
    "x_test=dataset2.iloc[:,1:].values\n",
    "\n",
    "y=dataset.iloc[:,1].values\n",
    "y=y.reshape(len(y),1)\n",
    "\n",
    "\n",
    "x=np.delete(x,1,1)\n",
    "x_test=np.delete(x_test,1,1)\n",
    "print(x[0:3])\n",
    "x=np.delete(x,(5,7),1)\n",
    "x_test=np.delete(x_test,(5,7),1)\n",
    "print(\" \")\n",
    "print(x[0:5])\n",
    "x[:,3]=x[:,3]+x[:,4]\n",
    "x_test[:,3]+=x_test[:,3]+x_test[:,4]\n",
    "\n",
    "x=np.delete(x,4,1)\n",
    "x_test=np.delete(x_test,4,1)\n",
    "print(\" \")\n",
    "print(x[0:5])"
   ]
  },
  {
   "cell_type": "code",
   "execution_count": 4,
   "id": "c5bed47d",
   "metadata": {
    "execution": {
     "iopub.execute_input": "2022-08-06T09:22:24.919483Z",
     "iopub.status.busy": "2022-08-06T09:22:24.918776Z",
     "iopub.status.idle": "2022-08-06T09:22:33.327034Z",
     "shell.execute_reply": "2022-08-06T09:22:33.325997Z"
    },
    "papermill": {
     "duration": 8.415772,
     "end_time": "2022-08-06T09:22:33.329673",
     "exception": false,
     "start_time": "2022-08-06T09:22:24.913901",
     "status": "completed"
    },
    "tags": []
   },
   "outputs": [],
   "source": [
    "import tensorflow as tf"
   ]
  },
  {
   "cell_type": "code",
   "execution_count": 5,
   "id": "ab368ce2",
   "metadata": {
    "execution": {
     "iopub.execute_input": "2022-08-06T09:22:33.340037Z",
     "iopub.status.busy": "2022-08-06T09:22:33.339049Z",
     "iopub.status.idle": "2022-08-06T09:22:33.486570Z",
     "shell.execute_reply": "2022-08-06T09:22:33.484791Z"
    },
    "papermill": {
     "duration": 0.155289,
     "end_time": "2022-08-06T09:22:33.489120",
     "exception": false,
     "start_time": "2022-08-06T09:22:33.333831",
     "status": "completed"
    },
    "tags": []
   },
   "outputs": [
    {
     "name": "stdout",
     "output_type": "stream",
     "text": [
      "[[3 1 22.0 1 7.25 'S']\n",
      " [1 0 38.0 1 71.2833 'C']\n",
      " [3 0 26.0 0 7.925 'S']\n",
      " [1 0 35.0 1 53.1 'S']\n",
      " [3 1 35.0 0 8.05 'S']]\n"
     ]
    }
   ],
   "source": [
    "from sklearn.preprocessing import LabelEncoder\n",
    "le1=LabelEncoder()\n",
    "le2=LabelEncoder()\n",
    "x[:,1]=le1.fit_transform(x[:,1])\n",
    "x_test[:,1]=le1.transform(x_test[:,1])\n",
    "\n",
    "#x[:,0]=le2.fit_transform(x[:,0])\n",
    "#x_test[:,0]=le2.transform(x_test[:,0])\n",
    "print(x[0:5])"
   ]
  },
  {
   "cell_type": "code",
   "execution_count": 6,
   "id": "0d716d33",
   "metadata": {
    "execution": {
     "iopub.execute_input": "2022-08-06T09:22:33.499157Z",
     "iopub.status.busy": "2022-08-06T09:22:33.498745Z",
     "iopub.status.idle": "2022-08-06T09:22:33.521827Z",
     "shell.execute_reply": "2022-08-06T09:22:33.520528Z"
    },
    "papermill": {
     "duration": 0.031282,
     "end_time": "2022-08-06T09:22:33.524464",
     "exception": false,
     "start_time": "2022-08-06T09:22:33.493182",
     "status": "completed"
    },
    "tags": []
   },
   "outputs": [],
   "source": [
    "from sklearn.compose import ColumnTransformer\n",
    "from sklearn.preprocessing import OneHotEncoder\n",
    "\n",
    "ct1=ColumnTransformer(transformers=[('encoder',OneHotEncoder(),[5])],remainder='passthrough')\n",
    "x=np.array(ct1.fit_transform(x))                     \n",
    "x_test=np.array(ct1.transform(x_test))\n",
    "\n",
    "ct2=ColumnTransformer(transformers=[('encoder',OneHotEncoder(),[0])],remainder='passthrough')\n",
    "x=np.array(ct2.fit_transform(x))                     \n",
    "x_test=np.array(ct2.transform(x_test))"
   ]
  },
  {
   "cell_type": "code",
   "execution_count": 7,
   "id": "4ed5ac14",
   "metadata": {
    "execution": {
     "iopub.execute_input": "2022-08-06T09:22:33.534099Z",
     "iopub.status.busy": "2022-08-06T09:22:33.533623Z",
     "iopub.status.idle": "2022-08-06T09:22:33.738188Z",
     "shell.execute_reply": "2022-08-06T09:22:33.736907Z"
    },
    "papermill": {
     "duration": 0.212144,
     "end_time": "2022-08-06T09:22:33.740626",
     "exception": false,
     "start_time": "2022-08-06T09:22:33.528482",
     "status": "completed"
    },
    "tags": []
   },
   "outputs": [],
   "source": [
    "from sklearn.impute import SimpleImputer\n",
    "imputer = SimpleImputer(missing_values=np.nan, strategy='median')\n",
    "imputer.fit(x)\n",
    "x = imputer.transform(x)\n",
    "x_test=imputer.transform(x_test)"
   ]
  },
  {
   "cell_type": "code",
   "execution_count": 8,
   "id": "ac3f738a",
   "metadata": {
    "execution": {
     "iopub.execute_input": "2022-08-06T09:22:33.750678Z",
     "iopub.status.busy": "2022-08-06T09:22:33.749612Z",
     "iopub.status.idle": "2022-08-06T09:22:33.755206Z",
     "shell.execute_reply": "2022-08-06T09:22:33.754266Z"
    },
    "papermill": {
     "duration": 0.013058,
     "end_time": "2022-08-06T09:22:33.757678",
     "exception": false,
     "start_time": "2022-08-06T09:22:33.744620",
     "status": "completed"
    },
    "tags": []
   },
   "outputs": [],
   "source": [
    "x_train, y_train=x,y"
   ]
  },
  {
   "cell_type": "code",
   "execution_count": 9,
   "id": "49048427",
   "metadata": {
    "execution": {
     "iopub.execute_input": "2022-08-06T09:22:33.766480Z",
     "iopub.status.busy": "2022-08-06T09:22:33.766158Z",
     "iopub.status.idle": "2022-08-06T09:22:33.772652Z",
     "shell.execute_reply": "2022-08-06T09:22:33.771845Z"
    },
    "papermill": {
     "duration": 0.013383,
     "end_time": "2022-08-06T09:22:33.774901",
     "exception": false,
     "start_time": "2022-08-06T09:22:33.761518",
     "status": "completed"
    },
    "tags": []
   },
   "outputs": [],
   "source": [
    "from sklearn.preprocessing import StandardScaler\n",
    "sc=StandardScaler()\n",
    "x_train=sc.fit_transform(x_train)\n",
    "x_test=sc.transform(x_test)\n"
   ]
  },
  {
   "cell_type": "code",
   "execution_count": 10,
   "id": "31dac6af",
   "metadata": {
    "execution": {
     "iopub.execute_input": "2022-08-06T09:22:33.784485Z",
     "iopub.status.busy": "2022-08-06T09:22:33.783796Z",
     "iopub.status.idle": "2022-08-06T09:22:34.344753Z",
     "shell.execute_reply": "2022-08-06T09:22:34.343858Z"
    },
    "papermill": {
     "duration": 0.568388,
     "end_time": "2022-08-06T09:22:34.347019",
     "exception": false,
     "start_time": "2022-08-06T09:22:33.778631",
     "status": "completed"
    },
    "tags": []
   },
   "outputs": [
    {
     "data": {
      "text/plain": [
       "XGBClassifier(base_score=0.5, booster='gbtree', callbacks=None,\n",
       "              colsample_bylevel=1, colsample_bynode=1, colsample_bytree=1,\n",
       "              early_stopping_rounds=None, enable_categorical=False,\n",
       "              eval_metric=None, gamma=0, gpu_id=-1, grow_policy='depthwise',\n",
       "              importance_type=None, interaction_constraints='',\n",
       "              learning_rate=0.300000012, max_bin=256, max_cat_to_onehot=4,\n",
       "              max_delta_step=0, max_depth=6, max_leaves=0, min_child_weight=1,\n",
       "              missing=nan, monotone_constraints='()', n_estimators=100,\n",
       "              n_jobs=0, num_parallel_tree=1, predictor='auto', random_state=0,\n",
       "              reg_alpha=0, reg_lambda=1, ...)"
      ]
     },
     "execution_count": 10,
     "metadata": {},
     "output_type": "execute_result"
    }
   ],
   "source": [
    "'''from sklearn.ensemble import RandomForestClassifier\n",
    "classifier = RandomForestClassifier(n_estimators = 100, criterion = 'entropy', random_state = 0)'''\n",
    "\n",
    "'''from sklearn.svm import SVC\n",
    "classifier = SVC(kernel = 'rbf', random_state = 0)'''\n",
    "\n",
    "'''from sklearn.neighbors import KNeighborsClassifier\n",
    "classifier = KNeighborsClassifier(n_neighbors = 10, metric = 'minkowski', p = 2)'''\n",
    "\n",
    "'''from sklearn.linear_model import LogisticRegression\n",
    "classifier = LogisticRegression(random_state = 0)'''\n",
    "\n",
    "from xgboost import XGBClassifier\n",
    "classifier= XGBClassifier()\n",
    "\n",
    "classifier.fit(x_train, y_train)"
   ]
  },
  {
   "cell_type": "code",
   "execution_count": 11,
   "id": "eb312476",
   "metadata": {
    "execution": {
     "iopub.execute_input": "2022-08-06T09:22:34.356942Z",
     "iopub.status.busy": "2022-08-06T09:22:34.356070Z",
     "iopub.status.idle": "2022-08-06T09:22:34.363992Z",
     "shell.execute_reply": "2022-08-06T09:22:34.363159Z"
    },
    "papermill": {
     "duration": 0.015689,
     "end_time": "2022-08-06T09:22:34.366738",
     "exception": false,
     "start_time": "2022-08-06T09:22:34.351049",
     "status": "completed"
    },
    "tags": []
   },
   "outputs": [],
   "source": [
    "y_pred=classifier.predict(x_test)"
   ]
  },
  {
   "cell_type": "code",
   "execution_count": 12,
   "id": "b39f9907",
   "metadata": {
    "execution": {
     "iopub.execute_input": "2022-08-06T09:22:34.377234Z",
     "iopub.status.busy": "2022-08-06T09:22:34.376821Z",
     "iopub.status.idle": "2022-08-06T09:22:34.387550Z",
     "shell.execute_reply": "2022-08-06T09:22:34.386141Z"
    },
    "papermill": {
     "duration": 0.018675,
     "end_time": "2022-08-06T09:22:34.389987",
     "exception": false,
     "start_time": "2022-08-06T09:22:34.371312",
     "status": "completed"
    },
    "tags": []
   },
   "outputs": [
    {
     "name": "stdout",
     "output_type": "stream",
     "text": [
      "Your submission was successfully saved!\n"
     ]
    }
   ],
   "source": [
    "output = pd.DataFrame({'PassengerId':ID, 'Survived':y_pred})\n",
    "output.to_csv('submission.csv',index=False)\n",
    "print(\"Your submission was successfully saved!\")"
   ]
  }
 ],
 "metadata": {
  "kernelspec": {
   "display_name": "Python 3",
   "language": "python",
   "name": "python3"
  },
  "language_info": {
   "codemirror_mode": {
    "name": "ipython",
    "version": 3
   },
   "file_extension": ".py",
   "mimetype": "text/x-python",
   "name": "python",
   "nbconvert_exporter": "python",
   "pygments_lexer": "ipython3",
   "version": "3.7.12"
  },
  "papermill": {
   "default_parameters": {},
   "duration": 23.614456,
   "end_time": "2022-08-06T09:22:37.673244",
   "environment_variables": {},
   "exception": null,
   "input_path": "__notebook__.ipynb",
   "output_path": "__notebook__.ipynb",
   "parameters": {},
   "start_time": "2022-08-06T09:22:14.058788",
   "version": "2.3.4"
  }
 },
 "nbformat": 4,
 "nbformat_minor": 5
}
